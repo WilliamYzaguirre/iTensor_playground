{
 "cells": [
  {
   "cell_type": "code",
   "execution_count": 4,
   "metadata": {},
   "outputs": [
    {
     "name": "stderr",
     "output_type": "stream",
     "text": [
      "\u001b[32m\u001b[1m   Resolving\u001b[22m\u001b[39m package versions...\n",
      "\u001b[32m\u001b[1m  No Changes\u001b[22m\u001b[39m to `C:\\Users\\willi\\.julia\\environments\\v1.9\\Project.toml`\n",
      "\u001b[32m\u001b[1m  No Changes\u001b[22m\u001b[39m to `C:\\Users\\willi\\.julia\\environments\\v1.9\\Manifest.toml`\n",
      "WARNING: replacing module ITensorQTT.\n"
     ]
    },
    {
     "ename": "LoadError",
     "evalue": "ArgumentError: Package ITensorQTT not found in current path, maybe you meant `import/using .ITensorQTT`.\n- Otherwise, run `import Pkg; Pkg.add(\"ITensorQTT\")` to install the ITensorQTT package.",
     "output_type": "error",
     "traceback": [
      "ArgumentError: Package ITensorQTT not found in current path, maybe you meant `import/using .ITensorQTT`.\n- Otherwise, run `import Pkg; Pkg.add(\"ITensorQTT\")` to install the ITensorQTT package.",
      "",
      "Stacktrace:",
      " [1] macro expansion",
      "   @ .\\loading.jl:1595 [inlined]",
      " [2] macro expansion",
      "   @ .\\lock.jl:267 [inlined]",
      " [3] require(into::Module, mod::Symbol)",
      "   @ Base .\\loading.jl:1576"
     ]
    }
   ],
   "source": [
    "using Pkg\n",
    "Pkg.add(\"ITensors\")\n",
    "include(\"./../QTT/ITensorQTT.jl/src/ITensorQTT.jl\")\n",
    "using .ITensorQTT\n",
    "using ITensors\n"
   ]
  },
  {
   "cell_type": "code",
   "execution_count": 3,
   "metadata": {},
   "outputs": [
    {
     "name": "stdout",
     "output_type": "stream",
     "text": [
      "Hello world\n"
     ]
    }
   ],
   "source": [
    "s = siteinds"
   ]
  }
 ],
 "metadata": {
  "kernelspec": {
   "display_name": "Julia 1.9.0",
   "language": "julia",
   "name": "julia-1.9"
  },
  "language_info": {
   "file_extension": ".jl",
   "mimetype": "application/julia",
   "name": "julia",
   "version": "1.9.0"
  }
 },
 "nbformat": 4,
 "nbformat_minor": 4
}
