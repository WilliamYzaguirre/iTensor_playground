{
 "cells": [
  {
   "cell_type": "code",
   "execution_count": 12,
   "metadata": {},
   "outputs": [
    {
     "name": "stderr",
     "output_type": "stream",
     "text": [
      "\u001b[32m\u001b[1m   Resolving\u001b[22m\u001b[39m package versions...\n",
      "\u001b[32m\u001b[1m  No Changes\u001b[22m\u001b[39m to `C:\\Users\\willi\\.julia\\environments\\v1.9\\Project.toml`\n",
      "\u001b[32m\u001b[1m  No Changes\u001b[22m\u001b[39m to `C:\\Users\\willi\\.julia\\environments\\v1.9\\Manifest.toml`\n",
      "\u001b[32m\u001b[1m   Resolving\u001b[22m\u001b[39m package versions...\n",
      "\u001b[32m\u001b[1m  No Changes\u001b[22m\u001b[39m to `C:\\Users\\willi\\.julia\\environments\\v1.9\\Project.toml`\n",
      "\u001b[32m\u001b[1m  No Changes\u001b[22m\u001b[39m to `C:\\Users\\willi\\.julia\\environments\\v1.9\\Manifest.toml`\n",
      "\u001b[32m\u001b[1m   Resolving\u001b[22m\u001b[39m package versions...\n",
      "\u001b[32m\u001b[1m  No Changes\u001b[22m\u001b[39m to `C:\\Users\\willi\\.julia\\environments\\v1.9\\Project.toml`\n",
      "\u001b[32m\u001b[1m  No Changes\u001b[22m\u001b[39m to `C:\\Users\\willi\\.julia\\environments\\v1.9\\Manifest.toml`\n",
      "WARNING: replacing module ITensorQTT.\n"
     ]
    }
   ],
   "source": [
    "using Pkg\n",
    "Pkg.add(\"ITensors\")\n",
    "Pkg.add(\"ITensorUnicodePlots\")\n",
    "Pkg.add(\"UnicodePlots\")\n",
    "include(\"./../QTT/ITensorQTT.jl/src/ITensorQTT.jl\")\n",
    "using .ITensorQTT\n",
    "using ITensors\n",
    "using ITensorUnicodePlots\n",
    "using UnicodePlots\n"
   ]
  },
  {
   "cell_type": "code",
   "execution_count": 46,
   "metadata": {},
   "outputs": [
    {
     "name": "stdout",
     "output_type": "stream",
     "text": [
      "Quantum circuit that we want to evaluate\n",
      "|0>---[H]---|⎻⎻⎻⎻|---\n",
      "            |cnot| \n",
      "|0>---------|____|---\n"
     ]
    }
   ],
   "source": [
    "println(\"Quantum circuit that we want to evaluate\")\n",
    "println(\"|0>---[H]---|⎻⎻⎻⎻|---\")\n",
    "println(\"            |cnot| \")\n",
    "println(\"|0>---------|____|---\")"
   ]
  },
  {
   "cell_type": "code",
   "execution_count": 47,
   "metadata": {},
   "outputs": [
    {
     "name": "stdout",
     "output_type": "stream",
     "text": [
      "Quantum circuit in tensor form (cnot constists of contracted xor and copy tensors)\n",
      "|0>---[H]---[copy]---\n",
      "               | \n",
      "|0>---------[XOR]---\n"
     ]
    }
   ],
   "source": [
    "println(\"Quantum circuit in tensor form (cnot constists of contracted xor and copy tensors)\")\n",
    "println(\"|0>---[H]---[copy]---\")\n",
    "println(\"               | \")\n",
    "println(\"|0>---------[XOR]---\")"
   ]
  },
  {
   "cell_type": "code",
   "execution_count": 33,
   "metadata": {},
   "outputs": [
    {
     "name": "stdout",
     "output_type": "stream",
     "text": [
      "ITensorVisualizationBase.get_backend() = ITensorVisualizationBase.Backend{:UnicodePlots}()\n",
      "Hadamard:\n",
      "ITensor ord=2\n",
      "Dim 1: (dim=2|id=668)\n",
      "Dim 2: (dim=2|id=258)\n",
      "NDTensors.Dense{Float64, Vector{Float64}}\n",
      " 2×2\n",
      " 0.707   0.707\n",
      " 0.707  -0.707\n"
     ]
    },
    {
     "data": {
      "text/plain": [
       "    \u001b[38;5;8m⠀⠀⠀⠀⠀⠀⠀⠀⠀⠀⠀⠀⠀⠀⠀⠀⠀⠀⠀⠀⠀⠀⠀⠀⠀⠀⠀⠀⠀⠀⠀⠀⠀⠀⠀⠀⠀⠀⠀⠀⠀⠀⠀⠀⠀⠀⠀⠀⠀⠀⠀⠀\u001b[0m \n",
       "    \u001b[38;5;8m⠀\u001b[0m⠀⠀⠀⠀⠀⠀⠀⠀⠀⠀⠀⠀⠀⠀⠀⠀⠀⠀⠀⠀⠀⠀⠀⠀⠀⠀⠀⠀⠀⠀⠀⠀⠀⠀⠀⠀⠀⠀⠀⠀⠀⠀⠀⠀⠀⠀⠀⠀⠀⠀\u001b[38;5;8m⠀\u001b[0m \n",
       "    \u001b[38;5;8m⠀\u001b[0m⠀⠀⠀⠀⠀⠀⠀⠀⠀⠀⠀⠀⠀⠀⠀⠀⠀⠀⠀⠀⠀⠀⠀⠀⠀⠀⠀⠀⠀⠀⠀⠀⠀⠀⠀⠀⠀⠀⠀⠀⠀⠀⠀⠀⠀⠀⠀⠀⠀⠀\u001b[38;5;8m⠀\u001b[0m \n",
       "    \u001b[38;5;8m⠀\u001b[0m⠀⠀⠀⠀⠀⠀⠀⠀⠀⠀⠀⠀⠀⠀⠀⠀⠀⠀⠀⠀⠀⠀⠀⠀⠀⠀⠀⠀⠀⠀⠀⠀⠀⠀⠀⠀⠀⠀⠀⠀⠀⠀⠀⠀⠀⠀⠀⠀⠀⠀\u001b[38;5;8m⠀\u001b[0m \n",
       "    \u001b[38;5;8m⠀\u001b[0m⠀⠀psi_1⠀⠀⠀⠀⠀⠀⠀⠀⠀⠀⠀⠀⠀⠀⠀⠀⠀⠀⠀⠀⠀⠀⠀⠀⠀⠀⠀⠀⠀⠀⠀⠀⠀⠀⠀⠀⠀⠀⠀⠀⠀⠀⠀\u001b[38;5;8m⠀\u001b[0m \n",
       "    \u001b[38;5;8m⠀\u001b[0m⠀⠀⠀⠀⠀\u001b[38;5;4m⠉\u001b[0m\u001b[38;5;4m⠢\u001b[0m\u001b[38;5;4m⢄\u001b[0m\u001b[38;5;4m⡀\u001b[0m⠀⠀⠀⠀⠀⠀⠀⠀⠀⠀⠀⠀⠀⠀⠀⠀⠀⠀⠀⠀⠀⠀⠀⠀⠀⠀⠀⠀⠀⠀⠀⠀⠀⠀⠀⠀⠀⠀⠀⠀⠀\u001b[38;5;8m⠀\u001b[0m \n",
       "    \u001b[38;5;8m⠀\u001b[0m⠀⠀⠀⠀⠀⠀⠀⠀\u001b[38;5;4m⠈\u001b[0m\u001b[38;5;4m⠒\u001b[0m\u001b[38;5;4m⠤\u001b[0m\u001b[38;5;4m⡀\u001b[0m⠀⠀⠀⠀⠀⠀⠀⠀⠀⠀⠀⠀⠀⠀⠀⠀⠀⠀⠀⠀⠀⠀⠀⠀⠀⠀⠀⠀⠀⠀⠀⠀⠀⠀⠀⠀⠀⠀\u001b[38;5;8m⠀\u001b[0m \n",
       "    \u001b[38;5;8m⠀\u001b[0m⠀⠀⠀⠀⠀⠀⠀⠀⠀⠀⠀\u001b[38;5;4m⠈\u001b[0m\u001b[38;5;4m⠑\u001b[0m\u001b[38;5;4m⠢\u001b[0m\u001b[38;5;4m⣀\u001b[0m⠀⠀⠀⠀⠀⠀⠀⠀⠀⠀⠀⠀⠀⠀⠀⠀⠀⠀⠀⠀⠀⠀⠀⠀⠀⠀⠀⠀⠀⠀⠀⠀⠀⠀⠀\u001b[38;5;8m⠀\u001b[0m \n",
       "    \u001b[38;5;8m⠀\u001b[0m⠀⠀⠀⠀⠀⠀⠀⠀⠀⠀⠀⠀⠀⠀⠀\u001b[38;5;4m⠉\u001b[0m\u001b[38;5;4m⠢\u001b[0m\u001b[38;5;4m⢄\u001b[0m\u001b[38;5;4m⡀\u001b[0m⠀⠀⠀⠀⠀⠀⠀⠀⠀⠀⠀⠀⠀⠀⠀⠀⠀⠀⠀⠀⠀⠀⠀⠀⠀⠀⠀⠀⠀⠀⠀\u001b[38;5;8m⠀\u001b[0m \n",
       "    \u001b[38;5;8m⠀\u001b[0m⠀⠀⠀⠀⠀⠀⠀⠀⠀⠀⠀⠀⠀⠀⠀⠀⠀⠀\u001b[38;5;4m⠈\u001b[0m\u001b[38;5;4m⠒\u001b[0m\u001b[38;5;4m⠤\u001b[0m\u001b[38;5;4m⡀\u001b[0m⠀⠀⠀⠀⠀⠀⠀⠀⠀⠀⠀⠀⠀⠀⠀⠀⠀⠀⠀⠀⠀⠀⠀⠀⠀⠀⠀⠀\u001b[38;5;8m⠀\u001b[0m \n",
       "    \u001b[38;5;8m⠀\u001b[0m⠀⠀⠀⠀⠀⠀⠀⠀⠀⠀⠀⠀⠀⠀⠀⠀⠀⠀⠀⠀⠀\u001b[38;5;4m⠈\u001b[0m\u001b[38;5;4m⠑\u001b[0m\u001b[38;5;4m⠢\u001b[0m\u001b[38;5;4m⣀\u001b[0m⠀⠀⠀⠀⠀⠀⠀⠀⠀⠀⠀⠀⠀⠀⠀⠀⠀⠀⠀⠀⠀⠀⠀⠀⠀\u001b[38;5;8m⠀\u001b[0m \n",
       "    \u001b[38;5;8m⠀\u001b[0m⠀⠀⠀⠀⠀⠀⠀⠀⠀⠀⠀⠀⠀⠀⠀⠀⠀⠀⠀⠀⠀⠀⠀⠀⠀2\u001b[38;5;4m⠢\u001b[0m\u001b[38;5;4m⢄\u001b[0m\u001b[38;5;4m⡀\u001b[0m⠀⠀⠀⠀⠀⠀⠀⠀⠀⠀⠀⠀⠀⠀⠀⠀⠀⠀⠀⠀⠀\u001b[38;5;8m⠀\u001b[0m \n",
       "    \u001b[38;5;8m⠀\u001b[0m⠀⠀⠀⠀⠀⠀⠀⠀⠀⠀⠀⠀⠀⠀⠀⠀⠀⠀⠀⠀⠀⠀⠀⠀⠀⠀⠀⠀\u001b[38;5;4m⠈\u001b[0m\u001b[38;5;4m⠒\u001b[0m\u001b[38;5;4m⠤\u001b[0m\u001b[38;5;4m⡀\u001b[0m⠀⠀⠀⠀⠀⠀⠀⠀⠀⠀⠀⠀⠀⠀⠀⠀⠀⠀\u001b[38;5;8m⠀\u001b[0m \n",
       "    \u001b[38;5;8m⠀\u001b[0m⠀⠀⠀⠀⠀⠀⠀⠀⠀⠀⠀⠀⠀⠀⠀⠀⠀⠀⠀⠀⠀⠀⠀⠀⠀⠀⠀⠀⠀⠀⠀\u001b[38;5;4m⠈\u001b[0m\u001b[38;5;4m⠑\u001b[0m\u001b[38;5;4m⠢\u001b[0m\u001b[38;5;4m⣀\u001b[0m⠀⠀⠀⠀⠀⠀⠀⠀⠀⠀⠀⠀⠀⠀⠀\u001b[38;5;8m⠀\u001b[0m \n",
       "    \u001b[38;5;8m⠀\u001b[0m⠀⠀⠀⠀⠀⠀⠀⠀⠀⠀⠀⠀⠀⠀⠀⠀⠀⠀⠀⠀⠀⠀⠀⠀⠀⠀⠀⠀⠀⠀⠀⠀⠀⠀⠀\u001b[38;5;4m⠉\u001b[0m\u001b[38;5;4m⠢\u001b[0m\u001b[38;5;4m⢄\u001b[0m\u001b[38;5;4m⡀\u001b[0m⠀⠀⠀⠀⠀⠀⠀⠀⠀⠀⠀\u001b[38;5;8m⠀\u001b[0m \n",
       "    \u001b[38;5;8m⠀\u001b[0m⠀⠀⠀⠀⠀⠀⠀⠀⠀⠀⠀⠀⠀⠀⠀⠀⠀⠀⠀⠀⠀⠀⠀⠀⠀⠀⠀⠀⠀⠀⠀⠀⠀⠀⠀⠀⠀⠀\u001b[38;5;4m⠈\u001b[0m\u001b[38;5;4m⠒\u001b[0m\u001b[38;5;4m⠤\u001b[0m\u001b[38;5;4m⡀\u001b[0m⠀⠀⠀⠀⠀⠀⠀⠀\u001b[38;5;8m⠀\u001b[0m \n",
       "    \u001b[38;5;8m⠀\u001b[0m⠀⠀⠀⠀⠀⠀⠀⠀⠀⠀⠀⠀⠀⠀⠀⠀⠀⠀⠀⠀⠀⠀⠀⠀⠀⠀⠀⠀⠀⠀⠀⠀⠀⠀⠀⠀⠀⠀⠀⠀⠀\u001b[38;5;4m⠈\u001b[0m\u001b[38;5;4m⠑\u001b[0m\u001b[38;5;4m⠢\u001b[0m\u001b[38;5;4m⣀\u001b[0m⠀⠀⠀⠀⠀\u001b[38;5;8m⠀\u001b[0m \n",
       "    \u001b[38;5;8m⠀\u001b[0m⠀⠀⠀⠀⠀⠀⠀⠀⠀⠀⠀⠀⠀⠀⠀⠀⠀⠀⠀⠀⠀⠀⠀⠀⠀⠀⠀⠀⠀⠀⠀⠀⠀⠀⠀⠀⠀⠀⠀⠀⠀⠀⠀⠀had⠀⠀⠀\u001b[38;5;8m⠀\u001b[0m \n",
       "    \u001b[38;5;8m⠀\u001b[0m⠀⠀⠀⠀⠀⠀⠀⠀⠀⠀⠀⠀⠀⠀⠀⠀⠀⠀⠀⠀⠀⠀⠀⠀⠀⠀⠀⠀⠀⠀⠀⠀⠀⠀⠀⠀⠀⠀⠀⠀⠀⠀⠀⠀⠀\u001b[38;5;4m⢸\u001b[0m⠀⠀⠀⠀\u001b[38;5;8m⠀\u001b[0m \n",
       "    \u001b[38;5;8m⠀\u001b[0m⠀⠀⠀⠀⠀⠀⠀⠀⠀⠀⠀⠀⠀⠀⠀⠀⠀⠀⠀⠀⠀⠀⠀⠀⠀⠀⠀⠀⠀⠀⠀⠀⠀⠀⠀⠀⠀⠀⠀⠀⠀⠀⠀⠀⠀2⠀⠀⠀⠀\u001b[38;5;8m⠀\u001b[0m \n",
       "    \u001b[38;5;8m⠀\u001b[0m⠀⠀⠀⠀⠀⠀⠀⠀⠀⠀⠀⠀⠀⠀⠀⠀⠀⠀⠀⠀⠀⠀⠀⠀⠀⠀⠀⠀⠀⠀⠀⠀⠀⠀⠀⠀⠀⠀⠀⠀⠀⠀⠀⠀⠀\u001b[38;5;4m⢸\u001b[0m⠀⠀⠀⠀\u001b[38;5;8m⠀\u001b[0m \n",
       "    \u001b[38;5;8m⠀⠀⠀⠀⠀⠀⠀⠀⠀⠀⠀⠀⠀⠀⠀⠀⠀⠀⠀⠀⠀⠀⠀⠀⠀⠀⠀⠀⠀⠀⠀⠀⠀⠀⠀⠀⠀⠀⠀⠀⠀⠀⠀⠀⠀⠀⠀⠀⠀⠀⠀⠀\u001b[0m "
      ]
     },
     "metadata": {},
     "output_type": "display_data"
    },
    {
     "name": "stdout",
     "output_type": "stream",
     "text": [
      "\n",
      "Hadamard out:\n",
      "ITensor ord=1\n",
      "Dim 1: (dim=2|id=258)\n",
      "NDTensors.Dense{Float64, Vector{Float64}}\n",
      " 2-element\n",
      " 0.707\n",
      " 0.707\n"
     ]
    }
   ],
   "source": [
    "@show ITensorVisualizationBase.get_backend()\n",
    "\n",
    "# define all indices needed\n",
    "# input indices\n",
    "psi1 = Index(2)\n",
    "psi2 = Index(2)\n",
    "\n",
    "# copy tensor and XOR tensor indices\n",
    "s1 = Index(2)\n",
    "s2 = Index(2)\n",
    "s3 = Index(2)\n",
    "s4 = Index(2)\n",
    "\n",
    "# build two |0> tensors as inputs\n",
    "psi_1 = ITensor(psi1)\n",
    "psi_1[psi1=>1] = 1\n",
    "psi_1[psi1=>2] = 0\n",
    "\n",
    "psi_2 = ITensor(psi2)\n",
    "psi_2[psi2=>1] = 1\n",
    "psi_2[psi2=>2] = 0\n",
    "\n",
    "# Hadamard tensor\n",
    "had = ITensor(psi1, s1)\n",
    "\n",
    "# Set elements of Hadamard\n",
    "had[psi1=>1,s1=>1] = 0.707\n",
    "had[psi1=>1,s1=>2] = 0.707\n",
    "had[psi1=>2,s1=>1] = 0.707\n",
    "had[psi1=>2,s1=>2] = -0.707\n",
    "\n",
    "# print and verify\n",
    "println(\"Hadamard:\\n\", had)\n",
    "\n",
    "# first contraction, hadamard and psi_1\n",
    "had_out = @visualize psi_1*had\n",
    "println(\"\\nHadamard out:\\n\", had_out)"
   ]
  },
  {
   "cell_type": "code",
   "execution_count": 48,
   "metadata": {},
   "outputs": [
    {
     "name": "stdout",
     "output_type": "stream",
     "text": [
      "After contracting (applying) input zero state to hadamard\n",
      "[had_out]---[copy]---\n",
      "               | \n",
      "|0>---------[XOR]---\n"
     ]
    }
   ],
   "source": [
    "println(\"After contracting (applying) input zero state to hadamard\")\n",
    "println(\"[had_out]---[copy]---\")\n",
    "println(\"               | \")\n",
    "println(\"|0>---------[XOR]---\")"
   ]
  },
  {
   "cell_type": "code",
   "execution_count": 34,
   "metadata": {},
   "outputs": [
    {
     "name": "stdout",
     "output_type": "stream",
     "text": [
      "\n",
      "Copy tensor:\n",
      "ITensor ord=3\n",
      "Dim 1: (dim=2|id=258)\n",
      "Dim 2: (dim=2|id=575)\n",
      "Dim 3: (dim=2|id=481)\n",
      "NDTensors.Dense{Int64, Vector{Int64}}\n",
      " 2×2×2\n",
      "[:, :, 1] =\n",
      " 1  0\n",
      " 0  0\n",
      "\n",
      "[:, :, 2] =\n",
      " 0  0\n",
      " 0  1\n",
      "\n",
      "XOR:\n",
      "ITensor ord=3\n",
      "Dim 1: (dim=2|id=481)\n",
      "Dim 2: (dim=2|id=475)\n",
      "Dim 3: (dim=2|id=122)\n",
      "NDTensors.Dense{Int64, Vector{Int64}}\n",
      " 2×2×2\n",
      "[:, :, 1] =\n",
      " 1  0\n",
      " 0  1\n",
      "\n",
      "[:, :, 2] =\n",
      " 0  1\n",
      " 1  0\n"
     ]
    },
    {
     "data": {
      "text/plain": [
       "    \u001b[38;5;8m⠀⠀⠀⠀⠀⠀⠀⠀⠀⠀⠀⠀⠀⠀⠀⠀⠀⠀⠀⠀⠀⠀⠀⠀⠀⠀⠀⠀⠀⠀⠀⠀⠀⠀⠀⠀⠀⠀⠀⠀⠀⠀⠀⠀⠀⠀⠀⠀⠀⠀⠀⠀\u001b[0m \n",
       "    \u001b[38;5;8m⠀\u001b[0m⠀⠀⠀⠀⠀⠀⠀⠀⠀⠀⠀⠀⠀⠀⠀⠀⠀⠀⠀⠀⠀⠀⠀⠀⠀⠀⠀⠀⠀⠀⠀⠀⠀⠀⠀⠀⠀⠀⠀⠀⠀⠀⠀⠀⠀⠀⠀⠀⠀⠀\u001b[38;5;8m⠀\u001b[0m \n",
       "    \u001b[38;5;8m⠀\u001b[0m⠀⠀⠀⠀⠀⠀⠀⠀⠀⠀⠀⠀⠀⠀⠀⠀⠀⠀⠀⠀⠀⠀⠀⠀⠀⠀⠀⠀⠀⠀⠀⠀⠀⠀⠀⠀⠀⠀⠀⠀⠀⠀⠀⠀⠀⠀⠀⠀⠀⠀\u001b[38;5;8m⠀\u001b[0m \n",
       "    \u001b[38;5;8m⠀\u001b[0m⠀⠀⠀⠀⠀⠀⠀⠀⠀⠀⠀⠀⠀⠀⠀⠀⠀⠀⠀⠀⠀⠀⠀⠀⠀⠀⠀⠀⠀⠀⠀⠀⠀⠀⠀⠀⠀⠀⠀⠀⠀⠀⠀⠀⠀⠀⠀⠀⠀⠀\u001b[38;5;8m⠀\u001b[0m \n",
       "    \u001b[38;5;8m⠀\u001b[0m⠀⠀copy⠀⠀⠀⠀⠀⠀⠀⠀⠀⠀⠀⠀⠀⠀⠀⠀⠀⠀⠀⠀⠀⠀⠀⠀⠀⠀⠀⠀⠀⠀⠀⠀⠀⠀⠀⠀⠀⠀⠀⠀⠀⠀⠀⠀\u001b[38;5;8m⠀\u001b[0m \n",
       "    \u001b[38;5;8m⠀\u001b[0m⠀⠀⠀⠀\u001b[38;5;4m⡇\u001b[0m\u001b[38;5;4m⠉\u001b[0m\u001b[38;5;4m⠢\u001b[0m\u001b[38;5;4m⢄\u001b[0m\u001b[38;5;4m⡀\u001b[0m⠀⠀⠀⠀⠀⠀⠀⠀⠀⠀⠀⠀⠀⠀⠀⠀⠀⠀⠀⠀⠀⠀⠀⠀⠀⠀⠀⠀⠀⠀⠀⠀⠀⠀⠀⠀⠀⠀⠀⠀⠀\u001b[38;5;8m⠀\u001b[0m \n",
       "    \u001b[38;5;8m⠀\u001b[0m⠀⠀⠀⠀\u001b[38;5;4m⡇\u001b[0m⠀⠀⠀\u001b[38;5;4m⠈\u001b[0m\u001b[38;5;4m⠒\u001b[0m\u001b[38;5;4m⠤\u001b[0m\u001b[38;5;4m⡀\u001b[0m⠀⠀⠀⠀⠀⠀⠀⠀⠀⠀⠀⠀⠀⠀⠀⠀⠀⠀⠀⠀⠀⠀⠀⠀⠀⠀⠀⠀⠀⠀⠀⠀⠀⠀⠀⠀⠀⠀\u001b[38;5;8m⠀\u001b[0m \n",
       "    \u001b[38;5;8m⠀\u001b[0m⠀⠀⠀2⊗2⠀⠀⠀⠀⠀\u001b[38;5;4m⠈\u001b[0m\u001b[38;5;4m⠑\u001b[0m\u001b[38;5;4m⠢\u001b[0m\u001b[38;5;4m⣀\u001b[0m⠀⠀⠀⠀⠀⠀⠀⠀⠀⠀⠀⠀⠀⠀⠀⠀⠀⠀⠀⠀⠀⠀⠀⠀⠀⠀⠀⠀⠀⠀⠀⠀⠀⠀⠀\u001b[38;5;8m⠀\u001b[0m \n",
       "    \u001b[38;5;8m⠀\u001b[0m⠀⠀⠀⠀\u001b[38;5;4m⡇\u001b[0m⠀⠀⠀⠀⠀⠀⠀⠀⠀⠀\u001b[38;5;4m⠉\u001b[0m\u001b[38;5;4m⠢\u001b[0m\u001b[38;5;4m⢄\u001b[0m\u001b[38;5;4m⡀\u001b[0m⠀⠀⠀⠀⠀⠀⠀⠀⠀⠀⠀⠀⠀⠀⠀⠀⠀⠀⠀⠀⠀⠀⠀⠀⠀⠀⠀⠀⠀⠀⠀\u001b[38;5;8m⠀\u001b[0m \n",
       "    \u001b[38;5;8m⠀\u001b[0m⠀⠀⠀⠀\u001b[38;5;4m⠃\u001b[0m⠀⠀⠀⠀⠀⠀⠀⠀⠀⠀⠀⠀⠀\u001b[38;5;4m⠈\u001b[0m\u001b[38;5;4m⠒\u001b[0m\u001b[38;5;4m⠤\u001b[0m\u001b[38;5;4m⡀\u001b[0m⠀⠀⠀⠀⠀⠀⠀⠀⠀⠀⠀⠀⠀⠀⠀⠀⠀⠀⠀⠀⠀⠀⠀⠀⠀⠀⠀⠀\u001b[38;5;8m⠀\u001b[0m \n",
       "    \u001b[38;5;8m⠀\u001b[0m⠀⠀⠀⠀⠀⠀⠀⠀⠀⠀⠀⠀⠀⠀⠀⠀⠀⠀⠀⠀⠀\u001b[38;5;4m⠈\u001b[0m\u001b[38;5;4m⠑\u001b[0m\u001b[38;5;4m⠢\u001b[0m\u001b[38;5;4m⣀\u001b[0m⠀⠀⠀⠀⠀⠀⠀⠀⠀⠀⠀⠀⠀⠀⠀⠀⠀⠀⠀⠀⠀⠀⠀⠀⠀\u001b[38;5;8m⠀\u001b[0m \n",
       "    \u001b[38;5;8m⠀\u001b[0m⠀⠀⠀⠀⠀⠀⠀⠀⠀⠀⠀⠀⠀⠀⠀⠀⠀⠀⠀⠀⠀⠀⠀⠀⠀2\u001b[38;5;4m⠢\u001b[0m\u001b[38;5;4m⢄\u001b[0m\u001b[38;5;4m⡀\u001b[0m⠀⠀⠀⠀⠀⠀⠀⠀⠀⠀⠀⠀⠀⠀⠀⠀⠀⠀⠀⠀⠀\u001b[38;5;8m⠀\u001b[0m \n",
       "    \u001b[38;5;8m⠀\u001b[0m⠀⠀⠀⠀⠀⠀⠀⠀⠀⠀⠀⠀⠀⠀⠀⠀⠀⠀⠀⠀⠀⠀⠀⠀⠀⠀⠀⠀\u001b[38;5;4m⠈\u001b[0m\u001b[38;5;4m⠒\u001b[0m\u001b[38;5;4m⠤\u001b[0m\u001b[38;5;4m⡀\u001b[0m⠀⠀⠀⠀⠀⠀⠀⠀⠀⠀⠀⠀⠀⠀⠀⠀⠀⠀\u001b[38;5;8m⠀\u001b[0m \n",
       "    \u001b[38;5;8m⠀\u001b[0m⠀⠀⠀⠀⠀⠀⠀⠀⠀⠀⠀⠀⠀⠀⠀⠀⠀⠀⠀⠀⠀⠀⠀⠀⠀⠀⠀⠀⠀⠀⠀\u001b[38;5;4m⠈\u001b[0m\u001b[38;5;4m⠑\u001b[0m\u001b[38;5;4m⠢\u001b[0m\u001b[38;5;4m⣀\u001b[0m⠀⠀⠀⠀⠀⠀⠀⠀⠀⠀⠀⠀⠀⠀⠀\u001b[38;5;8m⠀\u001b[0m \n",
       "    \u001b[38;5;8m⠀\u001b[0m⠀⠀⠀⠀⠀⠀⠀⠀⠀⠀⠀⠀⠀⠀⠀⠀⠀⠀⠀⠀⠀⠀⠀⠀⠀⠀⠀⠀⠀⠀⠀⠀⠀⠀⠀\u001b[38;5;4m⠉\u001b[0m\u001b[38;5;4m⠢\u001b[0m\u001b[38;5;4m⢄\u001b[0m\u001b[38;5;4m⡀\u001b[0m⠀⠀⠀⠀⠀⠀⠀⠀⠀⠀⠀\u001b[38;5;8m⠀\u001b[0m \n",
       "    \u001b[38;5;8m⠀\u001b[0m⠀⠀⠀⠀⠀⠀⠀⠀⠀⠀⠀⠀⠀⠀⠀⠀⠀⠀⠀⠀⠀⠀⠀⠀⠀⠀⠀⠀⠀⠀⠀⠀⠀⠀⠀⠀⠀⠀\u001b[38;5;4m⠈\u001b[0m\u001b[38;5;4m⠒\u001b[0m\u001b[38;5;4m⠤\u001b[0m\u001b[38;5;4m⡀\u001b[0m⠀⠀⠀⠀⠀⠀⠀⠀\u001b[38;5;8m⠀\u001b[0m \n",
       "    \u001b[38;5;8m⠀\u001b[0m⠀⠀⠀⠀⠀⠀⠀⠀⠀⠀⠀⠀⠀⠀⠀⠀⠀⠀⠀⠀⠀⠀⠀⠀⠀⠀⠀⠀⠀⠀⠀⠀⠀⠀⠀⠀⠀⠀⠀⠀⠀\u001b[38;5;4m⠈\u001b[0m\u001b[38;5;4m⠑\u001b[0m\u001b[38;5;4m⠢\u001b[0m\u001b[38;5;4m⣀\u001b[0m⠀⠀⠀⠀⠀\u001b[38;5;8m⠀\u001b[0m \n",
       "    \u001b[38;5;8m⠀\u001b[0m⠀⠀⠀⠀⠀⠀⠀⠀⠀⠀⠀⠀⠀⠀⠀⠀⠀⠀⠀⠀⠀⠀⠀⠀⠀⠀⠀⠀⠀⠀⠀⠀⠀⠀⠀⠀⠀⠀⠀⠀⠀⠀⠀⠀xor⠀⠀⠀\u001b[38;5;8m⠀\u001b[0m \n",
       "    \u001b[38;5;8m⠀\u001b[0m⠀⠀⠀⠀⠀⠀⠀⠀⠀⠀⠀⠀⠀⠀⠀⠀⠀⠀⠀⠀⠀⠀⠀⠀⠀⠀⠀⠀⠀⠀⠀⠀⠀⠀⠀⠀⠀⠀⠀⠀⠀⠀⠀⠀⠀\u001b[38;5;4m⢸\u001b[0m⠀⠀⠀⠀\u001b[38;5;8m⠀\u001b[0m \n",
       "    \u001b[38;5;8m⠀\u001b[0m⠀⠀⠀⠀⠀⠀⠀⠀⠀⠀⠀⠀⠀⠀⠀⠀⠀⠀⠀⠀⠀⠀⠀⠀⠀⠀⠀⠀⠀⠀⠀⠀⠀⠀⠀⠀⠀⠀⠀⠀⠀⠀⠀⠀2⊗2⠀⠀⠀\u001b[38;5;8m⠀\u001b[0m \n",
       "    \u001b[38;5;8m⠀\u001b[0m⠀⠀⠀⠀⠀⠀⠀⠀⠀⠀⠀⠀⠀⠀⠀⠀⠀⠀⠀⠀⠀⠀⠀⠀⠀⠀⠀⠀⠀⠀⠀⠀⠀⠀⠀⠀⠀⠀⠀⠀⠀⠀⠀⠀⠀\u001b[38;5;4m⢸\u001b[0m⠀⠀⠀⠀\u001b[38;5;8m⠀\u001b[0m \n",
       "    \u001b[38;5;8m⠀⠀⠀⠀⠀⠀⠀⠀⠀⠀⠀⠀⠀⠀⠀⠀⠀⠀⠀⠀⠀⠀⠀⠀⠀⠀⠀⠀⠀⠀⠀⠀⠀⠀⠀⠀⠀⠀⠀⠀⠀⠀⠀⠀⠀⠀⠀⠀⠀⠀⠀⠀\u001b[0m "
      ]
     },
     "metadata": {},
     "output_type": "display_data"
    },
    {
     "name": "stdout",
     "output_type": "stream",
     "text": [
      "\n",
      "CNOT:\n",
      "ITensor ord=4\n",
      "Dim 1: (dim=2|id=258)\n",
      "Dim 2: (dim=2|id=575)\n",
      "Dim 3: (dim=2|id=475)\n",
      "Dim 4: (dim=2|id=122)\n",
      "NDTensors.Dense{Int64, Vector{Int64}}\n",
      " 2×2×2×2\n",
      "[:, :, 1, 1] =\n",
      " 1  0\n",
      " 0  0\n",
      "\n",
      "[:, :, 2, 1] =\n",
      " 0  0\n",
      " 0  1\n",
      "\n",
      "[:, :, 1, 2] =\n",
      " 0  0\n",
      " 0  1\n",
      "\n",
      "[:, :, 2, 2] =\n",
      " 1  0\n",
      " 0  0\n"
     ]
    }
   ],
   "source": [
    "# build copy tensor\n",
    "copy = ITensor(s1, s2, s3)\n",
    "copy[s1=>1,s2=>1,s3=>1] = 1\n",
    "copy[s1=>2,s2=>2,s3=>2] = 1\n",
    "println(\"\\nCopy tensor:\\n\", copy)\n",
    "\n",
    "# build XOR tensor\n",
    "xor = ITensor(s3, psi2, s4)\n",
    "xor[psi2=>1,s4=>1,s3=>1] = 1\n",
    "xor[psi2=>1,s4=>2,s3=>2] = 1\n",
    "xor[psi2=>2,s4=>2,s3=>1] = 1\n",
    "xor[psi2=>2,s4=>1,s3=>2] = 1\n",
    "println(\"\\nXOR:\\n\", xor)\n",
    "\n",
    "# build cnot tensor by contracting copy with xor\n",
    "cnot = @visualize copy*xor\n",
    "println(\"\\nCNOT:\\n\", cnot)"
   ]
  },
  {
   "cell_type": "code",
   "execution_count": 49,
   "metadata": {},
   "outputs": [
    {
     "name": "stdout",
     "output_type": "stream",
     "text": [
      "After contracting copy and xor tensors to form cnot tensor\n",
      "[had_out]---|⎻⎻⎻⎻|---\n",
      "            |cnot| \n",
      "|0>---------|____|---\n"
     ]
    }
   ],
   "source": [
    "println(\"After contracting copy and xor tensors to form cnot tensor\")\n",
    "\n",
    "println(\"[had_out]---|⎻⎻⎻⎻|---\")\n",
    "println(\"            |cnot| \")\n",
    "println(\"|0>---------|____|---\")"
   ]
  },
  {
   "cell_type": "code",
   "execution_count": 35,
   "metadata": {},
   "outputs": [
    {
     "data": {
      "text/plain": [
       "    \u001b[38;5;8m⠀⠀⠀⠀⠀⠀⠀⠀⠀⠀⠀⠀⠀⠀⠀⠀⠀⠀⠀⠀⠀⠀⠀⠀⠀⠀⠀⠀⠀⠀⠀⠀⠀⠀⠀⠀⠀⠀⠀⠀⠀⠀⠀⠀⠀⠀⠀⠀⠀⠀⠀⠀\u001b[0m \n",
       "    \u001b[38;5;8m⠀\u001b[0m⠀⠀⠀⠀⠀⠀⠀⠀⠀⠀⠀⠀⠀⠀⠀⠀⠀⠀⠀⠀⠀⠀⠀⠀⠀⠀⠀⠀⠀⠀⠀⠀⠀⠀⠀⠀⠀⠀⠀⠀⠀⠀⠀⠀⠀⠀⠀⠀⠀⠀\u001b[38;5;8m⠀\u001b[0m \n",
       "    \u001b[38;5;8m⠀\u001b[0m⠀⠀⠀⠀⠀⠀⠀⠀⠀⠀⠀⠀⠀⠀⠀⠀⠀⠀⠀⠀⠀⠀⠀⠀⠀⠀⠀⠀⠀⠀⠀⠀⠀⠀⠀⠀⠀⠀⠀⠀⠀⠀⠀⠀⠀⠀⠀⠀⠀⠀\u001b[38;5;8m⠀\u001b[0m \n",
       "    \u001b[38;5;8m⠀\u001b[0m⠀⠀⠀⠀⠀⠀⠀⠀⠀⠀⠀⠀⠀⠀⠀⠀⠀⠀⠀⠀⠀⠀⠀⠀⠀⠀⠀⠀⠀⠀⠀⠀⠀⠀⠀⠀⠀⠀⠀⠀⠀⠀⠀⠀⠀⠀⠀⠀⠀⠀\u001b[38;5;8m⠀\u001b[0m \n",
       "    \u001b[38;5;8m⠀\u001b[0m⠀⠀psi_2⠀⠀⠀⠀⠀⠀⠀⠀⠀⠀⠀⠀⠀⠀⠀⠀⠀⠀⠀⠀⠀⠀⠀⠀⠀⠀⠀⠀⠀⠀⠀⠀⠀⠀⠀⠀⠀⠀⠀⠀⠀⠀⠀\u001b[38;5;8m⠀\u001b[0m \n",
       "    \u001b[38;5;8m⠀\u001b[0m⠀⠀⠀⠀⠀\u001b[38;5;4m⠉\u001b[0m\u001b[38;5;4m⠢\u001b[0m\u001b[38;5;4m⢄\u001b[0m\u001b[38;5;4m⡀\u001b[0m⠀⠀⠀⠀⠀⠀⠀⠀⠀⠀⠀⠀⠀⠀⠀⠀⠀⠀⠀⠀⠀⠀⠀⠀⠀⠀⠀⠀⠀⠀⠀⠀⠀⠀⠀⠀⠀⠀⠀⠀⠀\u001b[38;5;8m⠀\u001b[0m \n",
       "    \u001b[38;5;8m⠀\u001b[0m⠀⠀⠀⠀⠀⠀⠀⠀\u001b[38;5;4m⠈\u001b[0m\u001b[38;5;4m⠒\u001b[0m\u001b[38;5;4m⠤\u001b[0m\u001b[38;5;4m⡀\u001b[0m⠀⠀⠀⠀⠀⠀⠀⠀⠀⠀⠀⠀⠀⠀⠀⠀⠀⠀⠀⠀⠀⠀⠀⠀⠀⠀⠀⠀⠀⠀⠀⠀⠀⠀⠀⠀⠀⠀\u001b[38;5;8m⠀\u001b[0m \n",
       "    \u001b[38;5;8m⠀\u001b[0m⠀⠀⠀⠀⠀⠀⠀⠀⠀⠀⠀\u001b[38;5;4m⠈\u001b[0m\u001b[38;5;4m⠑\u001b[0m\u001b[38;5;4m⠢\u001b[0m2⠀⠀⠀⠀⠀⠀⠀⠀⠀⠀⠀⠀⠀⠀⠀⠀⠀⠀⠀⠀⠀⠀⠀⠀⠀⠀⠀⠀⠀⠀⠀⠀⠀⠀⠀\u001b[38;5;8m⠀\u001b[0m \n",
       "    \u001b[38;5;8m⠀\u001b[0m⠀⠀⠀⠀⠀⠀⠀⠀⠀⠀⠀⠀⠀⠀⠀\u001b[38;5;4m⠉\u001b[0m\u001b[38;5;4m⠢\u001b[0m\u001b[38;5;4m⢄\u001b[0m\u001b[38;5;4m⡀\u001b[0m⠀⠀⠀⠀⠀⠀⠀⠀⠀⠀⠀⠀⠀⠀⠀⠀⠀⠀⠀⠀⠀⠀⠀⠀⠀⠀⠀⠀⠀⠀⠀\u001b[38;5;8m⠀\u001b[0m \n",
       "    \u001b[38;5;8m⠀\u001b[0m⠀⠀⠀⠀⠀⠀⠀⠀⠀⠀⠀⠀⠀⠀⠀⠀⠀⠀\u001b[38;5;4m⠈\u001b[0m\u001b[38;5;4m⠒\u001b[0m\u001b[38;5;4m⠤\u001b[0m\u001b[38;5;4m⡀\u001b[0m⠀⠀⠀⠀⠀⠀⠀⠀⠀⠀⠀⠀⠀⠀⠀⠀⠀⠀⠀⠀⠀⠀⠀⠀⠀⠀⠀⠀\u001b[38;5;8m⠀\u001b[0m \n",
       "    \u001b[38;5;8m⠀\u001b[0m⠀⠀⠀⠀⠀⠀⠀⠀⠀⠀⠀⠀⠀⠀⠀⠀⠀⠀⠀⠀⠀\u001b[38;5;4m⠈\u001b[0mcnot⠀⠀⠀⠀⠀⠀⠀⠀⠀⠀⠀⠀⠀⠀⠀⠀⠀⠀⠀⠀⠀⠀⠀⠀\u001b[38;5;8m⠀\u001b[0m \n",
       "    \u001b[38;5;8m⠀\u001b[0m⠀⠀⠀⠀⠀⠀⠀⠀⠀⠀⠀⠀⠀⠀⠀⠀⠀⠀⠀⠀⠀⠀⠀⠀\u001b[38;5;4m⢸\u001b[0m\u001b[38;5;4m⠉\u001b[0m\u001b[38;5;4m⠢\u001b[0m\u001b[38;5;4m⢄\u001b[0m\u001b[38;5;4m⡀\u001b[0m⠀⠀⠀⠀⠀⠀⠀⠀⠀⠀⠀⠀⠀⠀⠀⠀⠀⠀⠀⠀⠀\u001b[38;5;8m⠀\u001b[0m \n",
       "    \u001b[38;5;8m⠀\u001b[0m⠀⠀⠀⠀⠀⠀⠀⠀⠀⠀⠀⠀⠀⠀⠀⠀⠀⠀⠀⠀⠀⠀⠀2⊗2⠀⠀\u001b[38;5;4m⠈\u001b[0m\u001b[38;5;4m⠒\u001b[0m\u001b[38;5;4m⠤\u001b[0m\u001b[38;5;4m⡀\u001b[0m⠀⠀⠀⠀⠀⠀⠀⠀⠀⠀⠀⠀⠀⠀⠀⠀⠀⠀\u001b[38;5;8m⠀\u001b[0m \n",
       "    \u001b[38;5;8m⠀\u001b[0m⠀⠀⠀⠀⠀⠀⠀⠀⠀⠀⠀⠀⠀⠀⠀⠀⠀⠀⠀⠀⠀⠀⠀⠀\u001b[38;5;4m⠈\u001b[0m⠀⠀⠀⠀⠀⠀\u001b[38;5;4m⠈\u001b[0m\u001b[38;5;4m⠑\u001b[0m\u001b[38;5;4m⠢\u001b[0m\u001b[38;5;4m⣀\u001b[0m⠀⠀⠀⠀⠀⠀⠀⠀⠀⠀⠀⠀⠀⠀⠀\u001b[38;5;8m⠀\u001b[0m \n",
       "    \u001b[38;5;8m⠀\u001b[0m⠀⠀⠀⠀⠀⠀⠀⠀⠀⠀⠀⠀⠀⠀⠀⠀⠀⠀⠀⠀⠀⠀⠀⠀⠀⠀⠀⠀⠀⠀⠀⠀⠀⠀⠀2\u001b[38;5;4m⠢\u001b[0m\u001b[38;5;4m⢄\u001b[0m\u001b[38;5;4m⡀\u001b[0m⠀⠀⠀⠀⠀⠀⠀⠀⠀⠀⠀\u001b[38;5;8m⠀\u001b[0m \n",
       "    \u001b[38;5;8m⠀\u001b[0m⠀⠀⠀⠀⠀⠀⠀⠀⠀⠀⠀⠀⠀⠀⠀⠀⠀⠀⠀⠀⠀⠀⠀⠀⠀⠀⠀⠀⠀⠀⠀⠀⠀⠀⠀⠀⠀⠀\u001b[38;5;4m⠈\u001b[0m\u001b[38;5;4m⠒\u001b[0m\u001b[38;5;4m⠤\u001b[0m\u001b[38;5;4m⡀\u001b[0m⠀⠀⠀⠀⠀⠀⠀⠀\u001b[38;5;8m⠀\u001b[0m \n",
       "    \u001b[38;5;8m⠀\u001b[0m⠀⠀⠀⠀⠀⠀⠀⠀⠀⠀⠀⠀⠀⠀⠀⠀⠀⠀⠀⠀⠀⠀⠀⠀⠀⠀⠀⠀⠀⠀⠀⠀⠀⠀⠀⠀⠀⠀⠀⠀⠀\u001b[38;5;4m⠈\u001b[0m\u001b[38;5;4m⠑\u001b[0m\u001b[38;5;4m⠤\u001b[0m\u001b[38;5;4m⣀\u001b[0m⠀⠀⠀⠀⠀\u001b[38;5;8m⠀\u001b[0m \n",
       "    \u001b[38;5;8m⠀\u001b[0m⠀⠀⠀⠀⠀⠀⠀⠀⠀⠀⠀⠀⠀⠀⠀⠀⠀⠀⠀⠀⠀⠀⠀⠀⠀⠀⠀⠀⠀⠀⠀⠀⠀⠀⠀⠀⠀⠀⠀⠀⠀⠀had_out⠀\u001b[38;5;8m⠀\u001b[0m \n",
       "    \u001b[38;5;8m⠀\u001b[0m⠀⠀⠀⠀⠀⠀⠀⠀⠀⠀⠀⠀⠀⠀⠀⠀⠀⠀⠀⠀⠀⠀⠀⠀⠀⠀⠀⠀⠀⠀⠀⠀⠀⠀⠀⠀⠀⠀⠀⠀⠀⠀⠀⠀⠀⠀⠀⠀⠀⠀\u001b[38;5;8m⠀\u001b[0m \n",
       "    \u001b[38;5;8m⠀\u001b[0m⠀⠀⠀⠀⠀⠀⠀⠀⠀⠀⠀⠀⠀⠀⠀⠀⠀⠀⠀⠀⠀⠀⠀⠀⠀⠀⠀⠀⠀⠀⠀⠀⠀⠀⠀⠀⠀⠀⠀⠀⠀⠀⠀⠀⠀⠀⠀⠀⠀⠀\u001b[38;5;8m⠀\u001b[0m \n",
       "    \u001b[38;5;8m⠀\u001b[0m⠀⠀⠀⠀⠀⠀⠀⠀⠀⠀⠀⠀⠀⠀⠀⠀⠀⠀⠀⠀⠀⠀⠀⠀⠀⠀⠀⠀⠀⠀⠀⠀⠀⠀⠀⠀⠀⠀⠀⠀⠀⠀⠀⠀⠀⠀⠀⠀⠀⠀\u001b[38;5;8m⠀\u001b[0m \n",
       "    \u001b[38;5;8m⠀⠀⠀⠀⠀⠀⠀⠀⠀⠀⠀⠀⠀⠀⠀⠀⠀⠀⠀⠀⠀⠀⠀⠀⠀⠀⠀⠀⠀⠀⠀⠀⠀⠀⠀⠀⠀⠀⠀⠀⠀⠀⠀⠀⠀⠀⠀⠀⠀⠀⠀⠀\u001b[0m "
      ]
     },
     "metadata": {},
     "output_type": "display_data"
    },
    {
     "name": "stdout",
     "output_type": "stream",
     "text": [
      "\n",
      "Output:\n",
      "ITensor ord=2\n",
      "Dim 1: (dim=2|id=575)\n",
      "Dim 2: (dim=2|id=122)\n",
      "NDTensors.Dense{Float64, Vector{Float64}}\n",
      " 2×2\n",
      " 0.707  0.0\n",
      " 0.0    0.707\n"
     ]
    }
   ],
   "source": [
    "# get circuit output by contacting over cnot gate with psi_2 and had_out\n",
    "output = @visualize psi_2*had_out*cnot\n",
    "println(\"\\nOutput:\\n\", output)"
   ]
  },
  {
   "cell_type": "code",
   "execution_count": 45,
   "metadata": {},
   "outputs": [
    {
     "name": "stdout",
     "output_type": "stream",
     "text": [
      "|⎻⎻⎻⎻⎻⎻|---\n",
      "|output| \n",
      "|______|---\n"
     ]
    }
   ],
   "source": [
    "println(\"After contracting cnot inputs with cnot to get final\")\n",
    "println(\"|⎻⎻⎻⎻⎻⎻|---\")\n",
    "println(\"|output| \")\n",
    "println(\"|______|---\")"
   ]
  }
 ],
 "metadata": {
  "kernelspec": {
   "display_name": "Julia 1.9.0",
   "language": "julia",
   "name": "julia-1.9"
  },
  "language_info": {
   "file_extension": ".jl",
   "mimetype": "application/julia",
   "name": "julia",
   "version": "1.9.0"
  }
 },
 "nbformat": 4,
 "nbformat_minor": 4
}
